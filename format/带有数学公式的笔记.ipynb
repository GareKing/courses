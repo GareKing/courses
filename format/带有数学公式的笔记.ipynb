{
 "cells": [
  {
   "cell_type": "markdown",
   "metadata": {},
   "source": [
    "# 如果笔记里出现数学公式怎么办？"
   ]
  },
  {
   "cell_type": "markdown",
   "metadata": {},
   "source": [
    "- 可以通过jupyter notebook利用latex语法来记录，关于latex语法可以参阅[Markdown 公式指导手册](http://www.tuicool.com/articles/mEzqeaM)."
   ]
  },
  {
   "cell_type": "markdown",
   "metadata": {},
   "source": [
    "- 给大家看几个例子：\n",
    "  - 行内公式，公式与文字混在一起\n",
    "```latex\n",
    "公式 $\\int_a^b f(x)\\mathrm{d}x$\n",
    "```\n",
    "公式 $\\int_a^b f(x)\\mathrm{d}x$\n",
    "  - 居中公式，公式单独一行，比较重要的公式可以这样排\n",
    "```latex\n",
    "$$\\int_a^b f(x)\\mathrm{d}x$$\n",
    "```\n",
    "$$\\int_a^b f(x)\\mathrm{d}x$$\n",
    "  - 其它的符号可以参看链接里的说明：\n",
    "  \n",
    "  $$\\lim_{x\\rightarrow x_0}f(x)= f(x_0)$$\n",
    "  \n",
    "  $$f(x)=\n",
    "  \\begin{cases}\n",
    "  \\left|x-1\\right|, & x<-1,\\\\\n",
    "  \\sin x+2, & x>2.\n",
    "  \\end{cases}$$"
   ]
  }
 ],
 "metadata": {
  "kernelspec": {
   "display_name": "Python 3",
   "language": "python",
   "name": "python3"
  },
  "language_info": {
   "codemirror_mode": {
    "name": "ipython",
    "version": 3
   },
   "file_extension": ".py",
   "mimetype": "text/x-python",
   "name": "python",
   "nbconvert_exporter": "python",
   "pygments_lexer": "ipython3",
   "version": "3.6.1"
  }
 },
 "nbformat": 4,
 "nbformat_minor": 2
}
